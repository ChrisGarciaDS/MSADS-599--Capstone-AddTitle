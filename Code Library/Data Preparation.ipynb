{
 "cells": [
  {
   "attachments": {},
   "cell_type": "markdown",
   "metadata": {},
   "source": [
    "# Data Preparation - Preprocessing\n",
    "\n",
    "**University of San Diego, M.S. Applied Data Science**\n",
    "\n",
    "Lai Leng Chan, Minsu Kim, Christopher Garcia\n",
    "\n",
    "This notebook contains....."
   ]
  },
  {
   "cell_type": "code",
   "execution_count": 77,
   "metadata": {},
   "outputs": [],
   "source": [
    "# Import Required Libraries\n",
    "import os\n",
    "import pandas as pd\n",
    "import numpy as np\n",
    "import matplotlib.pyplot as plt\n",
    "plt.style.use('ggplot')\n",
    "import seaborn as sns\n",
    "\n",
    "\n",
    "# Preprocessing Packages\n",
    "from sklearn.preprocessing import OneHotEncoder, StandardScaler\n",
    "from sklearn.model_selection import train_test_split\n",
    "from sklearn.model_selection import StratifiedKFold \n",
    "\n",
    "\n",
    "import warnings\n",
    "warnings.filterwarnings('ignore')\n",
    "\n",
    "# Set seed for reproducibility\n",
    "import random\n",
    "random.seed(101)"
   ]
  },
  {
   "cell_type": "code",
   "execution_count": 5,
   "metadata": {},
   "outputs": [
    {
     "data": {
      "text/plain": [
       "'/Users/christophergarcia/Documents/GitHub/MSADS-Capstone-CryptoCurrencyFraudDetection/Code Library'"
      ]
     },
     "execution_count": 5,
     "metadata": {},
     "output_type": "execute_result"
    }
   ],
   "source": [
    "# Check current directory\n",
    "os.getcwd()"
   ]
  },
  {
   "attachments": {},
   "cell_type": "markdown",
   "metadata": {},
   "source": [
    "### Introduction\n",
    "\n",
    "This data is extracted from the data folder, which was loaded from the Kaggle website. The data contains 9,841 rows and 51 columns. The preprocessing stage is commenced by reviewing each of the column types, as well as checking for null values within each column."
   ]
  },
  {
   "cell_type": "code",
   "execution_count": 7,
   "metadata": {},
   "outputs": [
    {
     "data": {
      "text/html": [
       "<div>\n",
       "<style scoped>\n",
       "    .dataframe tbody tr th:only-of-type {\n",
       "        vertical-align: middle;\n",
       "    }\n",
       "\n",
       "    .dataframe tbody tr th {\n",
       "        vertical-align: top;\n",
       "    }\n",
       "\n",
       "    .dataframe thead th {\n",
       "        text-align: right;\n",
       "    }\n",
       "</style>\n",
       "<table border=\"1\" class=\"dataframe\">\n",
       "  <thead>\n",
       "    <tr style=\"text-align: right;\">\n",
       "      <th></th>\n",
       "      <th>Unnamed: 0</th>\n",
       "      <th>Index</th>\n",
       "      <th>Address</th>\n",
       "      <th>FLAG</th>\n",
       "      <th>Avg min between sent tnx</th>\n",
       "      <th>Avg min between received tnx</th>\n",
       "      <th>Time Diff between first and last (Mins)</th>\n",
       "      <th>Sent tnx</th>\n",
       "      <th>Received Tnx</th>\n",
       "      <th>Number of Created Contracts</th>\n",
       "      <th>...</th>\n",
       "      <th>ERC20 min val sent</th>\n",
       "      <th>ERC20 max val sent</th>\n",
       "      <th>ERC20 avg val sent</th>\n",
       "      <th>ERC20 min val sent contract</th>\n",
       "      <th>ERC20 max val sent contract</th>\n",
       "      <th>ERC20 avg val sent contract</th>\n",
       "      <th>ERC20 uniq sent token name</th>\n",
       "      <th>ERC20 uniq rec token name</th>\n",
       "      <th>ERC20 most sent token type</th>\n",
       "      <th>ERC20_most_rec_token_type</th>\n",
       "    </tr>\n",
       "  </thead>\n",
       "  <tbody>\n",
       "    <tr>\n",
       "      <th>0</th>\n",
       "      <td>0</td>\n",
       "      <td>1</td>\n",
       "      <td>0x00009277775ac7d0d59eaad8fee3d10ac6c805e8</td>\n",
       "      <td>0</td>\n",
       "      <td>844.26</td>\n",
       "      <td>1093.71</td>\n",
       "      <td>704785.63</td>\n",
       "      <td>721</td>\n",
       "      <td>89</td>\n",
       "      <td>0</td>\n",
       "      <td>...</td>\n",
       "      <td>0.000000</td>\n",
       "      <td>1.683100e+07</td>\n",
       "      <td>271779.920000</td>\n",
       "      <td>0.0</td>\n",
       "      <td>0.0</td>\n",
       "      <td>0.0</td>\n",
       "      <td>39.0</td>\n",
       "      <td>57.0</td>\n",
       "      <td>Cofoundit</td>\n",
       "      <td>Numeraire</td>\n",
       "    </tr>\n",
       "    <tr>\n",
       "      <th>1</th>\n",
       "      <td>1</td>\n",
       "      <td>2</td>\n",
       "      <td>0x0002b44ddb1476db43c868bd494422ee4c136fed</td>\n",
       "      <td>0</td>\n",
       "      <td>12709.07</td>\n",
       "      <td>2958.44</td>\n",
       "      <td>1218216.73</td>\n",
       "      <td>94</td>\n",
       "      <td>8</td>\n",
       "      <td>0</td>\n",
       "      <td>...</td>\n",
       "      <td>2.260809</td>\n",
       "      <td>2.260809e+00</td>\n",
       "      <td>2.260809</td>\n",
       "      <td>0.0</td>\n",
       "      <td>0.0</td>\n",
       "      <td>0.0</td>\n",
       "      <td>1.0</td>\n",
       "      <td>7.0</td>\n",
       "      <td>Livepeer Token</td>\n",
       "      <td>Livepeer Token</td>\n",
       "    </tr>\n",
       "    <tr>\n",
       "      <th>2</th>\n",
       "      <td>2</td>\n",
       "      <td>3</td>\n",
       "      <td>0x0002bda54cb772d040f779e88eb453cac0daa244</td>\n",
       "      <td>0</td>\n",
       "      <td>246194.54</td>\n",
       "      <td>2434.02</td>\n",
       "      <td>516729.30</td>\n",
       "      <td>2</td>\n",
       "      <td>10</td>\n",
       "      <td>0</td>\n",
       "      <td>...</td>\n",
       "      <td>0.000000</td>\n",
       "      <td>0.000000e+00</td>\n",
       "      <td>0.000000</td>\n",
       "      <td>0.0</td>\n",
       "      <td>0.0</td>\n",
       "      <td>0.0</td>\n",
       "      <td>0.0</td>\n",
       "      <td>8.0</td>\n",
       "      <td>NaN</td>\n",
       "      <td>XENON</td>\n",
       "    </tr>\n",
       "    <tr>\n",
       "      <th>3</th>\n",
       "      <td>3</td>\n",
       "      <td>4</td>\n",
       "      <td>0x00038e6ba2fd5c09aedb96697c8d7b8fa6632e5e</td>\n",
       "      <td>0</td>\n",
       "      <td>10219.60</td>\n",
       "      <td>15785.09</td>\n",
       "      <td>397555.90</td>\n",
       "      <td>25</td>\n",
       "      <td>9</td>\n",
       "      <td>0</td>\n",
       "      <td>...</td>\n",
       "      <td>100.000000</td>\n",
       "      <td>9.029231e+03</td>\n",
       "      <td>3804.076893</td>\n",
       "      <td>0.0</td>\n",
       "      <td>0.0</td>\n",
       "      <td>0.0</td>\n",
       "      <td>1.0</td>\n",
       "      <td>11.0</td>\n",
       "      <td>Raiden</td>\n",
       "      <td>XENON</td>\n",
       "    </tr>\n",
       "    <tr>\n",
       "      <th>4</th>\n",
       "      <td>4</td>\n",
       "      <td>5</td>\n",
       "      <td>0x00062d1dd1afb6fb02540ddad9cdebfe568e0d89</td>\n",
       "      <td>0</td>\n",
       "      <td>36.61</td>\n",
       "      <td>10707.77</td>\n",
       "      <td>382472.42</td>\n",
       "      <td>4598</td>\n",
       "      <td>20</td>\n",
       "      <td>1</td>\n",
       "      <td>...</td>\n",
       "      <td>0.000000</td>\n",
       "      <td>4.500000e+04</td>\n",
       "      <td>13726.659220</td>\n",
       "      <td>0.0</td>\n",
       "      <td>0.0</td>\n",
       "      <td>0.0</td>\n",
       "      <td>6.0</td>\n",
       "      <td>27.0</td>\n",
       "      <td>StatusNetwork</td>\n",
       "      <td>EOS</td>\n",
       "    </tr>\n",
       "  </tbody>\n",
       "</table>\n",
       "<p>5 rows × 51 columns</p>\n",
       "</div>"
      ],
      "text/plain": [
       "   Unnamed: 0  Index                                     Address  FLAG  \\\n",
       "0           0      1  0x00009277775ac7d0d59eaad8fee3d10ac6c805e8     0   \n",
       "1           1      2  0x0002b44ddb1476db43c868bd494422ee4c136fed     0   \n",
       "2           2      3  0x0002bda54cb772d040f779e88eb453cac0daa244     0   \n",
       "3           3      4  0x00038e6ba2fd5c09aedb96697c8d7b8fa6632e5e     0   \n",
       "4           4      5  0x00062d1dd1afb6fb02540ddad9cdebfe568e0d89     0   \n",
       "\n",
       "   Avg min between sent tnx  Avg min between received tnx  \\\n",
       "0                    844.26                       1093.71   \n",
       "1                  12709.07                       2958.44   \n",
       "2                 246194.54                       2434.02   \n",
       "3                  10219.60                      15785.09   \n",
       "4                     36.61                      10707.77   \n",
       "\n",
       "   Time Diff between first and last (Mins)  Sent tnx  Received Tnx  \\\n",
       "0                                704785.63       721            89   \n",
       "1                               1218216.73        94             8   \n",
       "2                                516729.30         2            10   \n",
       "3                                397555.90        25             9   \n",
       "4                                382472.42      4598            20   \n",
       "\n",
       "   Number of Created Contracts  ...   ERC20 min val sent   ERC20 max val sent  \\\n",
       "0                            0  ...             0.000000         1.683100e+07   \n",
       "1                            0  ...             2.260809         2.260809e+00   \n",
       "2                            0  ...             0.000000         0.000000e+00   \n",
       "3                            0  ...           100.000000         9.029231e+03   \n",
       "4                            1  ...             0.000000         4.500000e+04   \n",
       "\n",
       "    ERC20 avg val sent   ERC20 min val sent contract  \\\n",
       "0        271779.920000                           0.0   \n",
       "1             2.260809                           0.0   \n",
       "2             0.000000                           0.0   \n",
       "3          3804.076893                           0.0   \n",
       "4         13726.659220                           0.0   \n",
       "\n",
       "    ERC20 max val sent contract   ERC20 avg val sent contract  \\\n",
       "0                           0.0                           0.0   \n",
       "1                           0.0                           0.0   \n",
       "2                           0.0                           0.0   \n",
       "3                           0.0                           0.0   \n",
       "4                           0.0                           0.0   \n",
       "\n",
       "    ERC20 uniq sent token name   ERC20 uniq rec token name  \\\n",
       "0                         39.0                        57.0   \n",
       "1                          1.0                         7.0   \n",
       "2                          0.0                         8.0   \n",
       "3                          1.0                        11.0   \n",
       "4                          6.0                        27.0   \n",
       "\n",
       "    ERC20 most sent token type   ERC20_most_rec_token_type  \n",
       "0                    Cofoundit                   Numeraire  \n",
       "1               Livepeer Token              Livepeer Token  \n",
       "2                          NaN                       XENON  \n",
       "3                       Raiden                       XENON  \n",
       "4                StatusNetwork                         EOS  \n",
       "\n",
       "[5 rows x 51 columns]"
      ]
     },
     "execution_count": 7,
     "metadata": {},
     "output_type": "execute_result"
    }
   ],
   "source": [
    "# Read in dataset\n",
    "df = pd.read_csv('/Users/christophergarcia/Documents/GitHub/MSADS-Capstone-CryptoCurrencyFraudDetection/Data/transaction_dataset.csv')\n",
    "df.head()"
   ]
  },
  {
   "cell_type": "code",
   "execution_count": 13,
   "metadata": {},
   "outputs": [
    {
     "data": {
      "text/plain": [
       "(9841, 51)"
      ]
     },
     "execution_count": 13,
     "metadata": {},
     "output_type": "execute_result"
    }
   ],
   "source": [
    "df.shape"
   ]
  },
  {
   "cell_type": "code",
   "execution_count": 3,
   "metadata": {},
   "outputs": [
    {
     "data": {
      "text/plain": [
       "Index(['Unnamed: 0', 'Index', 'Address', 'FLAG', 'Avg min between sent tnx',\n",
       "       'Avg min between received tnx',\n",
       "       'Time Diff between first and last (Mins)', 'Sent tnx', 'Received Tnx',\n",
       "       'Number of Created Contracts', 'Unique Received From Addresses',\n",
       "       'Unique Sent To Addresses', 'min value received', 'max value received ',\n",
       "       'avg val received', 'min val sent', 'max val sent', 'avg val sent',\n",
       "       'min value sent to contract', 'max val sent to contract',\n",
       "       'avg value sent to contract',\n",
       "       'total transactions (including tnx to create contract',\n",
       "       'total Ether sent', 'total ether received',\n",
       "       'total ether sent contracts', 'total ether balance',\n",
       "       ' Total ERC20 tnxs', ' ERC20 total Ether received',\n",
       "       ' ERC20 total ether sent', ' ERC20 total Ether sent contract',\n",
       "       ' ERC20 uniq sent addr', ' ERC20 uniq rec addr',\n",
       "       ' ERC20 uniq sent addr.1', ' ERC20 uniq rec contract addr',\n",
       "       ' ERC20 avg time between sent tnx', ' ERC20 avg time between rec tnx',\n",
       "       ' ERC20 avg time between rec 2 tnx',\n",
       "       ' ERC20 avg time between contract tnx', ' ERC20 min val rec',\n",
       "       ' ERC20 max val rec', ' ERC20 avg val rec', ' ERC20 min val sent',\n",
       "       ' ERC20 max val sent', ' ERC20 avg val sent',\n",
       "       ' ERC20 min val sent contract', ' ERC20 max val sent contract',\n",
       "       ' ERC20 avg val sent contract', ' ERC20 uniq sent token name',\n",
       "       ' ERC20 uniq rec token name', ' ERC20 most sent token type',\n",
       "       ' ERC20_most_rec_token_type'],\n",
       "      dtype='object')"
      ]
     },
     "execution_count": 3,
     "metadata": {},
     "output_type": "execute_result"
    }
   ],
   "source": [
    "# Feature names\n",
    "df.columns"
   ]
  },
  {
   "cell_type": "code",
   "execution_count": 11,
   "metadata": {},
   "outputs": [
    {
     "name": "stdout",
     "output_type": "stream",
     "text": [
      "<class 'pandas.core.frame.DataFrame'>\n",
      "RangeIndex: 9841 entries, 0 to 9840\n",
      "Data columns (total 51 columns):\n",
      " #   Column                                                Non-Null Count  Dtype  \n",
      "---  ------                                                --------------  -----  \n",
      " 0   Unnamed: 0                                            9841 non-null   int64  \n",
      " 1   Index                                                 9841 non-null   int64  \n",
      " 2   Address                                               9841 non-null   object \n",
      " 3   FLAG                                                  9841 non-null   int64  \n",
      " 4   Avg min between sent tnx                              9841 non-null   float64\n",
      " 5   Avg min between received tnx                          9841 non-null   float64\n",
      " 6   Time Diff between first and last (Mins)               9841 non-null   float64\n",
      " 7   Sent tnx                                              9841 non-null   int64  \n",
      " 8   Received Tnx                                          9841 non-null   int64  \n",
      " 9   Number of Created Contracts                           9841 non-null   int64  \n",
      " 10  Unique Received From Addresses                        9841 non-null   int64  \n",
      " 11  Unique Sent To Addresses                              9841 non-null   int64  \n",
      " 12  min value received                                    9841 non-null   float64\n",
      " 13  max value received                                    9841 non-null   float64\n",
      " 14  avg val received                                      9841 non-null   float64\n",
      " 15  min val sent                                          9841 non-null   float64\n",
      " 16  max val sent                                          9841 non-null   float64\n",
      " 17  avg val sent                                          9841 non-null   float64\n",
      " 18  min value sent to contract                            9841 non-null   float64\n",
      " 19  max val sent to contract                              9841 non-null   float64\n",
      " 20  avg value sent to contract                            9841 non-null   float64\n",
      " 21  total transactions (including tnx to create contract  9841 non-null   int64  \n",
      " 22  total Ether sent                                      9841 non-null   float64\n",
      " 23  total ether received                                  9841 non-null   float64\n",
      " 24  total ether sent contracts                            9841 non-null   float64\n",
      " 25  total ether balance                                   9841 non-null   float64\n",
      " 26   Total ERC20 tnxs                                     9012 non-null   float64\n",
      " 27   ERC20 total Ether received                           9012 non-null   float64\n",
      " 28   ERC20 total ether sent                               9012 non-null   float64\n",
      " 29   ERC20 total Ether sent contract                      9012 non-null   float64\n",
      " 30   ERC20 uniq sent addr                                 9012 non-null   float64\n",
      " 31   ERC20 uniq rec addr                                  9012 non-null   float64\n",
      " 32   ERC20 uniq sent addr.1                               9012 non-null   float64\n",
      " 33   ERC20 uniq rec contract addr                         9012 non-null   float64\n",
      " 34   ERC20 avg time between sent tnx                      9012 non-null   float64\n",
      " 35   ERC20 avg time between rec tnx                       9012 non-null   float64\n",
      " 36   ERC20 avg time between rec 2 tnx                     9012 non-null   float64\n",
      " 37   ERC20 avg time between contract tnx                  9012 non-null   float64\n",
      " 38   ERC20 min val rec                                    9012 non-null   float64\n",
      " 39   ERC20 max val rec                                    9012 non-null   float64\n",
      " 40   ERC20 avg val rec                                    9012 non-null   float64\n",
      " 41   ERC20 min val sent                                   9012 non-null   float64\n",
      " 42   ERC20 max val sent                                   9012 non-null   float64\n",
      " 43   ERC20 avg val sent                                   9012 non-null   float64\n",
      " 44   ERC20 min val sent contract                          9012 non-null   float64\n",
      " 45   ERC20 max val sent contract                          9012 non-null   float64\n",
      " 46   ERC20 avg val sent contract                          9012 non-null   float64\n",
      " 47   ERC20 uniq sent token name                           9012 non-null   float64\n",
      " 48   ERC20 uniq rec token name                            9012 non-null   float64\n",
      " 49   ERC20 most sent token type                           7144 non-null   object \n",
      " 50   ERC20_most_rec_token_type                            8970 non-null   object \n",
      "dtypes: float64(39), int64(9), object(3)\n",
      "memory usage: 3.8+ MB\n",
      "None\n"
     ]
    }
   ],
   "source": [
    "# Display DataFrame information including all columns\n",
    "print(df.info())"
   ]
  },
  {
   "cell_type": "code",
   "execution_count": 4,
   "metadata": {},
   "outputs": [
    {
     "data": {
      "text/plain": [
       "Unnamed: 0                                                 0\n",
       "Index                                                      0\n",
       "Address                                                    0\n",
       "FLAG                                                       0\n",
       "Avg min between sent tnx                                   0\n",
       "Avg min between received tnx                               0\n",
       "Time Diff between first and last (Mins)                    0\n",
       "Sent tnx                                                   0\n",
       "Received Tnx                                               0\n",
       "Number of Created Contracts                                0\n",
       "Unique Received From Addresses                             0\n",
       "Unique Sent To Addresses                                   0\n",
       "min value received                                         0\n",
       "max value received                                         0\n",
       "avg val received                                           0\n",
       "min val sent                                               0\n",
       "max val sent                                               0\n",
       "avg val sent                                               0\n",
       "min value sent to contract                                 0\n",
       "max val sent to contract                                   0\n",
       "avg value sent to contract                                 0\n",
       "total transactions (including tnx to create contract       0\n",
       "total Ether sent                                           0\n",
       "total ether received                                       0\n",
       "total ether sent contracts                                 0\n",
       "total ether balance                                        0\n",
       " Total ERC20 tnxs                                        829\n",
       " ERC20 total Ether received                              829\n",
       " ERC20 total ether sent                                  829\n",
       " ERC20 total Ether sent contract                         829\n",
       " ERC20 uniq sent addr                                    829\n",
       " ERC20 uniq rec addr                                     829\n",
       " ERC20 uniq sent addr.1                                  829\n",
       " ERC20 uniq rec contract addr                            829\n",
       " ERC20 avg time between sent tnx                         829\n",
       " ERC20 avg time between rec tnx                          829\n",
       " ERC20 avg time between rec 2 tnx                        829\n",
       " ERC20 avg time between contract tnx                     829\n",
       " ERC20 min val rec                                       829\n",
       " ERC20 max val rec                                       829\n",
       " ERC20 avg val rec                                       829\n",
       " ERC20 min val sent                                      829\n",
       " ERC20 max val sent                                      829\n",
       " ERC20 avg val sent                                      829\n",
       " ERC20 min val sent contract                             829\n",
       " ERC20 max val sent contract                             829\n",
       " ERC20 avg val sent contract                             829\n",
       " ERC20 uniq sent token name                              829\n",
       " ERC20 uniq rec token name                               829\n",
       " ERC20 most sent token type                             2697\n",
       " ERC20_most_rec_token_type                               871\n",
       "dtype: int64"
      ]
     },
     "execution_count": 4,
     "metadata": {},
     "output_type": "execute_result"
    }
   ],
   "source": [
    "# Check for missing values\n",
    "df.isna().sum()"
   ]
  },
  {
   "cell_type": "code",
   "execution_count": 12,
   "metadata": {},
   "outputs": [
    {
     "data": {
      "text/plain": [
       "Unnamed: 0                                               0.00\n",
       "Index                                                    0.00\n",
       "Address                                                  0.00\n",
       "FLAG                                                     0.00\n",
       "Avg min between sent tnx                                 0.00\n",
       "Avg min between received tnx                             0.00\n",
       "Time Diff between first and last (Mins)                  0.00\n",
       "Sent tnx                                                 0.00\n",
       "Received Tnx                                             0.00\n",
       "Number of Created Contracts                              0.00\n",
       "Unique Received From Addresses                           0.00\n",
       "Unique Sent To Addresses                                 0.00\n",
       "min value received                                       0.00\n",
       "max value received                                       0.00\n",
       "avg val received                                         0.00\n",
       "min val sent                                             0.00\n",
       "max val sent                                             0.00\n",
       "avg val sent                                             0.00\n",
       "min value sent to contract                               0.00\n",
       "max val sent to contract                                 0.00\n",
       "avg value sent to contract                               0.00\n",
       "total transactions (including tnx to create contract     0.00\n",
       "total Ether sent                                         0.00\n",
       "total ether received                                     0.00\n",
       "total ether sent contracts                               0.00\n",
       "total ether balance                                      0.00\n",
       " Total ERC20 tnxs                                        8.42\n",
       " ERC20 total Ether received                              8.42\n",
       " ERC20 total ether sent                                  8.42\n",
       " ERC20 total Ether sent contract                         8.42\n",
       " ERC20 uniq sent addr                                    8.42\n",
       " ERC20 uniq rec addr                                     8.42\n",
       " ERC20 uniq sent addr.1                                  8.42\n",
       " ERC20 uniq rec contract addr                            8.42\n",
       " ERC20 avg time between sent tnx                         8.42\n",
       " ERC20 avg time between rec tnx                          8.42\n",
       " ERC20 avg time between rec 2 tnx                        8.42\n",
       " ERC20 avg time between contract tnx                     8.42\n",
       " ERC20 min val rec                                       8.42\n",
       " ERC20 max val rec                                       8.42\n",
       " ERC20 avg val rec                                       8.42\n",
       " ERC20 min val sent                                      8.42\n",
       " ERC20 max val sent                                      8.42\n",
       " ERC20 avg val sent                                      8.42\n",
       " ERC20 min val sent contract                             8.42\n",
       " ERC20 max val sent contract                             8.42\n",
       " ERC20 avg val sent contract                             8.42\n",
       " ERC20 uniq sent token name                              8.42\n",
       " ERC20 uniq rec token name                               8.42\n",
       " ERC20 most sent token type                             27.41\n",
       " ERC20_most_rec_token_type                               8.85\n",
       "dtype: float64"
      ]
     },
     "execution_count": 12,
     "metadata": {},
     "output_type": "execute_result"
    }
   ],
   "source": [
    "# Find percentage of missing values\n",
    "round(df.isnull().sum()/len(df) * 100, 2)"
   ]
  },
  {
   "cell_type": "code",
   "execution_count": 8,
   "metadata": {},
   "outputs": [
    {
     "data": {
      "text/plain": [
       " ERC20 most sent token type\n",
       "0                                                         4399\n",
       "                                                          1191\n",
       "EOS                                                        138\n",
       "OmiseGO                                                    137\n",
       "Golem                                                      130\n",
       "                                                          ... \n",
       "BlockchainPoland                                             1\n",
       "Covalent Token                                               1\n",
       "Nebula AI Token                                              1\n",
       "Blocktix                                                     1\n",
       "eosDAC Community Owned EOS Block Producer ERC20 Tokens       1\n",
       "Name: count, Length: 304, dtype: int64"
      ]
     },
     "execution_count": 8,
     "metadata": {},
     "output_type": "execute_result"
    }
   ],
   "source": [
    "# Replace with mode\n",
    "df[' ERC20 most sent token type'].value_counts()"
   ]
  },
  {
   "cell_type": "code",
   "execution_count": 10,
   "metadata": {},
   "outputs": [
    {
     "data": {
      "text/plain": [
       " ERC20_most_rec_token_type\n",
       "0                        4399\n",
       "OmiseGO                   873\n",
       "Blockwell say NOTSAFU     779\n",
       "DATAcoin                  358\n",
       "Livepeer Token            207\n",
       "                         ... \n",
       "BCDN                        1\n",
       "Egretia                     1\n",
       "UG Coin                     1\n",
       "Yun Planet                  1\n",
       "INS Promo1                  1\n",
       "Name: count, Length: 466, dtype: int64"
      ]
     },
     "execution_count": 10,
     "metadata": {},
     "output_type": "execute_result"
    }
   ],
   "source": [
    "# Replace with mode\n",
    "df[' ERC20_most_rec_token_type'].value_counts()"
   ]
  },
  {
   "attachments": {},
   "cell_type": "markdown",
   "metadata": {},
   "source": [
    "For instance the most sent token type features, contains 27.41 percent of its rows to be missing values. There are also many other features such as avg val sent contract, and avg time between contract tnx that only have 8 percent of missing rows. Inspecting why these values are missing is critical to the performance of a predictive model. In this case, since 8 percent is not a huge loss, removing or replacing those values would allow for the model to work properly. Since there is a feature with 27 percent of missing values, the best strategy is to replace those values based on the values of that feature. Therefore, to mitigate for missing values, imputation using the mean will be utilized. "
   ]
  },
  {
   "attachments": {},
   "cell_type": "markdown",
   "metadata": {},
   "source": [
    "### Dealing with Missing Values"
   ]
  },
  {
   "cell_type": "code",
   "execution_count": 73,
   "metadata": {},
   "outputs": [],
   "source": [
    "# Drop rows with missing values\n",
    "df = df.dropna(axis=1)\n",
    "df.isnull().sum()\n",
    "df.to_csv('/Users/christophergarcia/Documents/GitHub/MSADS-Capstone-CryptoCurrencyFraudDetection/Data/new_data_file.csv', index=False)"
   ]
  },
  {
   "attachments": {},
   "cell_type": "markdown",
   "metadata": {},
   "source": [
    "## Feature Engineering\n",
    "\n",
    "### Run a random forest for feature selection"
   ]
  },
  {
   "cell_type": "code",
   "execution_count": 9,
   "metadata": {},
   "outputs": [
    {
     "data": {
      "text/html": [
       "<style>#sk-container-id-1 {color: black;background-color: white;}#sk-container-id-1 pre{padding: 0;}#sk-container-id-1 div.sk-toggleable {background-color: white;}#sk-container-id-1 label.sk-toggleable__label {cursor: pointer;display: block;width: 100%;margin-bottom: 0;padding: 0.3em;box-sizing: border-box;text-align: center;}#sk-container-id-1 label.sk-toggleable__label-arrow:before {content: \"▸\";float: left;margin-right: 0.25em;color: #696969;}#sk-container-id-1 label.sk-toggleable__label-arrow:hover:before {color: black;}#sk-container-id-1 div.sk-estimator:hover label.sk-toggleable__label-arrow:before {color: black;}#sk-container-id-1 div.sk-toggleable__content {max-height: 0;max-width: 0;overflow: hidden;text-align: left;background-color: #f0f8ff;}#sk-container-id-1 div.sk-toggleable__content pre {margin: 0.2em;color: black;border-radius: 0.25em;background-color: #f0f8ff;}#sk-container-id-1 input.sk-toggleable__control:checked~div.sk-toggleable__content {max-height: 200px;max-width: 100%;overflow: auto;}#sk-container-id-1 input.sk-toggleable__control:checked~label.sk-toggleable__label-arrow:before {content: \"▾\";}#sk-container-id-1 div.sk-estimator input.sk-toggleable__control:checked~label.sk-toggleable__label {background-color: #d4ebff;}#sk-container-id-1 div.sk-label input.sk-toggleable__control:checked~label.sk-toggleable__label {background-color: #d4ebff;}#sk-container-id-1 input.sk-hidden--visually {border: 0;clip: rect(1px 1px 1px 1px);clip: rect(1px, 1px, 1px, 1px);height: 1px;margin: -1px;overflow: hidden;padding: 0;position: absolute;width: 1px;}#sk-container-id-1 div.sk-estimator {font-family: monospace;background-color: #f0f8ff;border: 1px dotted black;border-radius: 0.25em;box-sizing: border-box;margin-bottom: 0.5em;}#sk-container-id-1 div.sk-estimator:hover {background-color: #d4ebff;}#sk-container-id-1 div.sk-parallel-item::after {content: \"\";width: 100%;border-bottom: 1px solid gray;flex-grow: 1;}#sk-container-id-1 div.sk-label:hover label.sk-toggleable__label {background-color: #d4ebff;}#sk-container-id-1 div.sk-serial::before {content: \"\";position: absolute;border-left: 1px solid gray;box-sizing: border-box;top: 0;bottom: 0;left: 50%;z-index: 0;}#sk-container-id-1 div.sk-serial {display: flex;flex-direction: column;align-items: center;background-color: white;padding-right: 0.2em;padding-left: 0.2em;position: relative;}#sk-container-id-1 div.sk-item {position: relative;z-index: 1;}#sk-container-id-1 div.sk-parallel {display: flex;align-items: stretch;justify-content: center;background-color: white;position: relative;}#sk-container-id-1 div.sk-item::before, #sk-container-id-1 div.sk-parallel-item::before {content: \"\";position: absolute;border-left: 1px solid gray;box-sizing: border-box;top: 0;bottom: 0;left: 50%;z-index: -1;}#sk-container-id-1 div.sk-parallel-item {display: flex;flex-direction: column;z-index: 1;position: relative;background-color: white;}#sk-container-id-1 div.sk-parallel-item:first-child::after {align-self: flex-end;width: 50%;}#sk-container-id-1 div.sk-parallel-item:last-child::after {align-self: flex-start;width: 50%;}#sk-container-id-1 div.sk-parallel-item:only-child::after {width: 0;}#sk-container-id-1 div.sk-dashed-wrapped {border: 1px dashed gray;margin: 0 0.4em 0.5em 0.4em;box-sizing: border-box;padding-bottom: 0.4em;background-color: white;}#sk-container-id-1 div.sk-label label {font-family: monospace;font-weight: bold;display: inline-block;line-height: 1.2em;}#sk-container-id-1 div.sk-label-container {text-align: center;}#sk-container-id-1 div.sk-container {/* jupyter's `normalize.less` sets `[hidden] { display: none; }` but bootstrap.min.css set `[hidden] { display: none !important; }` so we also need the `!important` here to be able to override the default hidden behavior on the sphinx rendered scikit-learn.org. See: https://github.com/scikit-learn/scikit-learn/issues/21755 */display: inline-block !important;position: relative;}#sk-container-id-1 div.sk-text-repr-fallback {display: none;}</style><div id=\"sk-container-id-1\" class=\"sk-top-container\"><div class=\"sk-text-repr-fallback\"><pre>RandomForestClassifier()</pre><b>In a Jupyter environment, please rerun this cell to show the HTML representation or trust the notebook. <br />On GitHub, the HTML representation is unable to render, please try loading this page with nbviewer.org.</b></div><div class=\"sk-container\" hidden><div class=\"sk-item\"><div class=\"sk-estimator sk-toggleable\"><input class=\"sk-toggleable__control sk-hidden--visually\" id=\"sk-estimator-id-1\" type=\"checkbox\" checked><label for=\"sk-estimator-id-1\" class=\"sk-toggleable__label sk-toggleable__label-arrow\">RandomForestClassifier</label><div class=\"sk-toggleable__content\"><pre>RandomForestClassifier()</pre></div></div></div></div></div>"
      ],
      "text/plain": [
       "RandomForestClassifier()"
      ]
     },
     "execution_count": 9,
     "metadata": {},
     "output_type": "execute_result"
    }
   ],
   "source": [
    "from sklearn.ensemble import RandomForestClassifier\n",
    "\n",
    "# Split the data into two separate features\n",
    "X = df.drop(columns=['FLAG', 'Address']) # 'Address', ' ERC20 most sent token type', ' ERC20_most_rec_token_type'\n",
    "y = df['FLAG']\n",
    "\n",
    "# Instantiate Random Forest model\n",
    "rfm = RandomForestClassifier(n_estimators=100)  \n",
    "\n",
    "# Train the model on the data\n",
    "rfm.fit(X, y)\n"
   ]
  },
  {
   "cell_type": "code",
   "execution_count": 10,
   "metadata": {},
   "outputs": [],
   "source": [
    "# Get feature importances from the trained model\n",
    "feature_importances = rfm.feature_importances_\n",
    "\n",
    "# Create a DataFrame to store feature importances along with their corresponding column names\n",
    "feature_importances_df = pd.DataFrame({'Feature': X.columns, 'Importance': feature_importances})\n",
    "\n",
    "# Sort the features based on importance in descending order\n",
    "feature_importances_df = feature_importances_df.sort_values(by='Importance', ascending=False)\n"
   ]
  },
  {
   "cell_type": "code",
   "execution_count": 11,
   "metadata": {},
   "outputs": [
    {
     "data": {
      "image/png": "[encoded data removed]",
      "text/plain": [
       "<Figure size 720x432 with 1 Axes>"
      ]
     },
     "metadata": {},
     "output_type": "display_data"
    }
   ],
   "source": [
    "# Displays the top 10 features\n",
    "k = 10 \n",
    "\n",
    "# Select the top 'k' features\n",
    "top_features = feature_importances_df.head(k)\n",
    "\n",
    "plt.figure(figsize=(10, 6))\n",
    "plt.bar(top_features['Feature'], top_features['Importance'], color='tan')\n",
    "plt.xticks(rotation=45)\n",
    "plt.xlabel('Features')\n",
    "plt.ylabel('Importance')\n",
    "#plt.title(f'Top {k} Features')\n",
    "plt.show()\n"
   ]
  },
  {
   "cell_type": "code",
   "execution_count": 15,
   "metadata": {},
   "outputs": [
    {
     "data": {
      "text/html": [
       "<div>\n",
       "<style scoped>\n",
       "    .dataframe tbody tr th:only-of-type {\n",
       "        vertical-align: middle;\n",
       "    }\n",
       "\n",
       "    .dataframe tbody tr th {\n",
       "        vertical-align: top;\n",
       "    }\n",
       "\n",
       "    .dataframe thead th {\n",
       "        text-align: right;\n",
       "    }\n",
       "</style>\n",
       "<table border=\"1\" class=\"dataframe\">\n",
       "  <thead>\n",
       "    <tr style=\"text-align: right;\">\n",
       "      <th></th>\n",
       "      <th>Feature</th>\n",
       "      <th>Importance</th>\n",
       "    </tr>\n",
       "  </thead>\n",
       "  <tbody>\n",
       "    <tr>\n",
       "      <th>0</th>\n",
       "      <td>Unnamed: 0</td>\n",
       "      <td>0.540018</td>\n",
       "    </tr>\n",
       "    <tr>\n",
       "      <th>21</th>\n",
       "      <td>total ether received</td>\n",
       "      <td>0.066206</td>\n",
       "    </tr>\n",
       "    <tr>\n",
       "      <th>12</th>\n",
       "      <td>avg val received</td>\n",
       "      <td>0.053352</td>\n",
       "    </tr>\n",
       "    <tr>\n",
       "      <th>1</th>\n",
       "      <td>Index</td>\n",
       "      <td>0.043091</td>\n",
       "    </tr>\n",
       "    <tr>\n",
       "      <th>8</th>\n",
       "      <td>Unique Received From Addresses</td>\n",
       "      <td>0.038456</td>\n",
       "    </tr>\n",
       "    <tr>\n",
       "      <th>4</th>\n",
       "      <td>Time Diff between first and last (Mins)</td>\n",
       "      <td>0.037509</td>\n",
       "    </tr>\n",
       "    <tr>\n",
       "      <th>6</th>\n",
       "      <td>Received Tnx</td>\n",
       "      <td>0.033006</td>\n",
       "    </tr>\n",
       "    <tr>\n",
       "      <th>11</th>\n",
       "      <td>max value received</td>\n",
       "      <td>0.032815</td>\n",
       "    </tr>\n",
       "    <tr>\n",
       "      <th>19</th>\n",
       "      <td>total transactions (including tnx to create co...</td>\n",
       "      <td>0.029532</td>\n",
       "    </tr>\n",
       "    <tr>\n",
       "      <th>3</th>\n",
       "      <td>Avg min between received tnx</td>\n",
       "      <td>0.028429</td>\n",
       "    </tr>\n",
       "  </tbody>\n",
       "</table>\n",
       "</div>"
      ],
      "text/plain": [
       "                                              Feature  Importance\n",
       "0                                          Unnamed: 0    0.540018\n",
       "21                               total ether received    0.066206\n",
       "12                                   avg val received    0.053352\n",
       "1                                               Index    0.043091\n",
       "8                      Unique Received From Addresses    0.038456\n",
       "4             Time Diff between first and last (Mins)    0.037509\n",
       "6                                        Received Tnx    0.033006\n",
       "11                                max value received     0.032815\n",
       "19  total transactions (including tnx to create co...    0.029532\n",
       "3                        Avg min between received tnx    0.028429"
      ]
     },
     "execution_count": 15,
     "metadata": {},
     "output_type": "execute_result"
    }
   ],
   "source": [
    "top_features"
   ]
  },
  {
   "cell_type": "code",
   "execution_count": 27,
   "metadata": {},
   "outputs": [
    {
     "data": {
      "text/html": [
       "<div>\n",
       "<style scoped>\n",
       "    .dataframe tbody tr th:only-of-type {\n",
       "        vertical-align: middle;\n",
       "    }\n",
       "\n",
       "    .dataframe tbody tr th {\n",
       "        vertical-align: top;\n",
       "    }\n",
       "\n",
       "    .dataframe thead th {\n",
       "        text-align: right;\n",
       "    }\n",
       "</style>\n",
       "<table border=\"1\" class=\"dataframe\">\n",
       "  <thead>\n",
       "    <tr style=\"text-align: right;\">\n",
       "      <th></th>\n",
       "      <th>Feature</th>\n",
       "      <th>Importance</th>\n",
       "    </tr>\n",
       "  </thead>\n",
       "  <tbody>\n",
       "    <tr>\n",
       "      <th>0</th>\n",
       "      <td>Unnamed: 0</td>\n",
       "      <td>0.540018</td>\n",
       "    </tr>\n",
       "    <tr>\n",
       "      <th>21</th>\n",
       "      <td>total ether received</td>\n",
       "      <td>0.066206</td>\n",
       "    </tr>\n",
       "    <tr>\n",
       "      <th>12</th>\n",
       "      <td>avg val received</td>\n",
       "      <td>0.053352</td>\n",
       "    </tr>\n",
       "    <tr>\n",
       "      <th>1</th>\n",
       "      <td>Index</td>\n",
       "      <td>0.043091</td>\n",
       "    </tr>\n",
       "    <tr>\n",
       "      <th>8</th>\n",
       "      <td>Unique Received From Addresses</td>\n",
       "      <td>0.038456</td>\n",
       "    </tr>\n",
       "    <tr>\n",
       "      <th>4</th>\n",
       "      <td>Time Diff between first and last (Mins)</td>\n",
       "      <td>0.037509</td>\n",
       "    </tr>\n",
       "    <tr>\n",
       "      <th>6</th>\n",
       "      <td>Received Tnx</td>\n",
       "      <td>0.033006</td>\n",
       "    </tr>\n",
       "    <tr>\n",
       "      <th>11</th>\n",
       "      <td>max value received</td>\n",
       "      <td>0.032815</td>\n",
       "    </tr>\n",
       "    <tr>\n",
       "      <th>19</th>\n",
       "      <td>total transactions (including tnx to create co...</td>\n",
       "      <td>0.029532</td>\n",
       "    </tr>\n",
       "    <tr>\n",
       "      <th>3</th>\n",
       "      <td>Avg min between received tnx</td>\n",
       "      <td>0.028429</td>\n",
       "    </tr>\n",
       "    <tr>\n",
       "      <th>5</th>\n",
       "      <td>Sent tnx</td>\n",
       "      <td>0.016288</td>\n",
       "    </tr>\n",
       "    <tr>\n",
       "      <th>23</th>\n",
       "      <td>total ether balance</td>\n",
       "      <td>0.012622</td>\n",
       "    </tr>\n",
       "    <tr>\n",
       "      <th>2</th>\n",
       "      <td>Avg min between sent tnx</td>\n",
       "      <td>0.012355</td>\n",
       "    </tr>\n",
       "    <tr>\n",
       "      <th>13</th>\n",
       "      <td>min val sent</td>\n",
       "      <td>0.011670</td>\n",
       "    </tr>\n",
       "    <tr>\n",
       "      <th>20</th>\n",
       "      <td>total Ether sent</td>\n",
       "      <td>0.011507</td>\n",
       "    </tr>\n",
       "    <tr>\n",
       "      <th>10</th>\n",
       "      <td>min value received</td>\n",
       "      <td>0.010576</td>\n",
       "    </tr>\n",
       "    <tr>\n",
       "      <th>14</th>\n",
       "      <td>max val sent</td>\n",
       "      <td>0.007946</td>\n",
       "    </tr>\n",
       "    <tr>\n",
       "      <th>15</th>\n",
       "      <td>avg val sent</td>\n",
       "      <td>0.007389</td>\n",
       "    </tr>\n",
       "    <tr>\n",
       "      <th>9</th>\n",
       "      <td>Unique Sent To Addresses</td>\n",
       "      <td>0.003713</td>\n",
       "    </tr>\n",
       "    <tr>\n",
       "      <th>7</th>\n",
       "      <td>Number of Created Contracts</td>\n",
       "      <td>0.003514</td>\n",
       "    </tr>\n",
       "    <tr>\n",
       "      <th>16</th>\n",
       "      <td>min value sent to contract</td>\n",
       "      <td>0.000006</td>\n",
       "    </tr>\n",
       "    <tr>\n",
       "      <th>17</th>\n",
       "      <td>max val sent to contract</td>\n",
       "      <td>0.000000</td>\n",
       "    </tr>\n",
       "    <tr>\n",
       "      <th>18</th>\n",
       "      <td>avg value sent to contract</td>\n",
       "      <td>0.000000</td>\n",
       "    </tr>\n",
       "    <tr>\n",
       "      <th>22</th>\n",
       "      <td>total ether sent contracts</td>\n",
       "      <td>0.000000</td>\n",
       "    </tr>\n",
       "  </tbody>\n",
       "</table>\n",
       "</div>"
      ],
      "text/plain": [
       "                                              Feature  Importance\n",
       "0                                          Unnamed: 0    0.540018\n",
       "21                               total ether received    0.066206\n",
       "12                                   avg val received    0.053352\n",
       "1                                               Index    0.043091\n",
       "8                      Unique Received From Addresses    0.038456\n",
       "4             Time Diff between first and last (Mins)    0.037509\n",
       "6                                        Received Tnx    0.033006\n",
       "11                                max value received     0.032815\n",
       "19  total transactions (including tnx to create co...    0.029532\n",
       "3                        Avg min between received tnx    0.028429\n",
       "5                                            Sent tnx    0.016288\n",
       "23                                total ether balance    0.012622\n",
       "2                            Avg min between sent tnx    0.012355\n",
       "13                                       min val sent    0.011670\n",
       "20                                   total Ether sent    0.011507\n",
       "10                                 min value received    0.010576\n",
       "14                                       max val sent    0.007946\n",
       "15                                       avg val sent    0.007389\n",
       "9                            Unique Sent To Addresses    0.003713\n",
       "7                         Number of Created Contracts    0.003514\n",
       "16                         min value sent to contract    0.000006\n",
       "17                           max val sent to contract    0.000000\n",
       "18                         avg value sent to contract    0.000000\n",
       "22                         total ether sent contracts    0.000000"
      ]
     },
     "execution_count": 27,
     "metadata": {},
     "output_type": "execute_result"
    }
   ],
   "source": [
    "feature_importances_df"
   ]
  },
  {
   "attachments": {},
   "cell_type": "markdown",
   "metadata": {},
   "source": [
    "### Class Imbalance Strategy"
   ]
  },
  {
   "cell_type": "code",
   "execution_count": 13,
   "metadata": {},
   "outputs": [
    {
     "data": {
      "image/png": "[encoded data removed]",
      "text/plain": [
       "<Figure size 576x432 with 1 Axes>"
      ]
     },
     "metadata": {},
     "output_type": "display_data"
    }
   ],
   "source": [
    "# Inspect class imbalance\n",
    "sns.set(style='darkgrid')\n",
    "plt.figure(figsize=(8, 6))\n",
    "sns.countplot(x='FLAG', data=df, palette='pastel')\n",
    "#plt.title('Class Distribution (Fraudulent Vs Non-Fraudulent)')\n",
    "plt.xlabel('Transactions')\n",
    "plt.ylabel('Count')\n",
    "plt.show()"
   ]
  },
  {
   "cell_type": "code",
   "execution_count": 60,
   "metadata": {},
   "outputs": [],
   "source": [
    "# Create training and testing datasets\n",
    "# Save to data folder for modeling\n",
    "# Set random number for reproducibiltiy\n",
    "random_state = 111\n",
    "\n",
    "# Features to be used for model\n",
    "features = df[['total ether received', 'avg val received', 'Unique Received From Addresses', 'Time Diff between first and last (Mins)', \n",
    "               'Received Tnx', 'total transactions (including tnx to create contract', 'Avg min between received tnx', 'Sent tnx',\n",
    "               'total ether balance', 'Avg min between sent tnx']]\n",
    "target_feature = df['FLAG']"
   ]
  },
  {
   "cell_type": "code",
   "execution_count": 61,
   "metadata": {},
   "outputs": [],
   "source": [
    "# Split the data into training (80%) and temporary rest (20%)\n",
    "X_train_temp, X_test, y_train_temp, y_test = train_test_split(features, target_feature, \n",
    "                                                              test_size=0.2, \n",
    "                                                              random_state=42,\n",
    "                                                              stratify=target_feature)\n",
    "\n",
    "# Split the temporary rest into validation (50%) and testing (50%)\n",
    "X_train, X_val, y_train, y_val = train_test_split(X_train_temp, y_train_temp, \n",
    "                                                  test_size=0.5, \n",
    "                                                  random_state=42)\n"
   ]
  },
  {
   "cell_type": "code",
   "execution_count": 62,
   "metadata": {},
   "outputs": [
    {
     "name": "stdout",
     "output_type": "stream",
     "text": [
      "Training Size: 3936\n",
      "Validation Size: 3936\n",
      "Testing Size 1969\n"
     ]
    }
   ],
   "source": [
    "# Check shape of data\n",
    "print('Training Size:', len(X_train))\n",
    "print('Validation Size:', len(X_val))\n",
    "print('Testing Size', len(X_test))"
   ]
  },
  {
   "attachments": {},
   "cell_type": "markdown",
   "metadata": {},
   "source": [
    "### Standardize Features"
   ]
  },
  {
   "cell_type": "code",
   "execution_count": 74,
   "metadata": {},
   "outputs": [],
   "source": [
    "def scale_features(X, scaling_method='minmax'):\n",
    "    \"\"\"\n",
    "    Scale the features in X using Standardization.\n",
    "\n",
    "    Parameters:\n",
    "        X (DataFrame): The features DataFrame to be scaled.\n",
    "        scaling_method (str): The scaling used is Standardization\n",
    "\n",
    "    Returns:\n",
    "        DataFrame: The scaled features DataFrame.\n",
    "    \"\"\"\n",
    "\n",
    "    if scaling_method not in ['standard']:\n",
    "        raise ValueError(\"Invalid scaling_method. Options 'standard'.\")\n",
    "    else:\n",
    "        scaler = StandardScaler()\n",
    "\n",
    "    # Fit and transform the features using the chosen scaler\n",
    "    X_scaled = pd.DataFrame(scaler.fit_transform(X), columns=X.columns)\n",
    "\n",
    "    return X_scaled\n"
   ]
  },
  {
   "cell_type": "markdown",
   "metadata": {},
   "source": [
    "### Save Data to Data Folder"
   ]
  },
  {
   "cell_type": "code",
   "execution_count": 72,
   "metadata": {},
   "outputs": [
    {
     "data": {
      "text/plain": [
       "\"\\ntrain_data = pd.concat([X_scaled_train, y_train])\\ntrain_data.to_csv('/Users/christophergarcia/Documents/GitHub/MSADS-Capstone-CryptoCurrencyFraudDetection/Data/training_data.csv', index=False)  \\n\\n# Save validation data\\nval_data = pd.concat([X_scaled_val, y_val])\\nval_data.to_csv('/Users/christophergarcia/Documents/GitHub/MSADS-Capstone-CryptoCurrencyFraudDetection/Data/validation_data.csv', index=False)  \\n\\n# Save testing data\\ntest_data = pd.concat([X_scaled_test, y_test])\\ntest_data.to_csv('/Users/christophergarcia/Documents/GitHub/MSADS-Capstone-CryptoCurrencyFraudDetection/Data/testing_data.csv', index=False)  \\n\""
      ]
     },
     "execution_count": 72,
     "metadata": {},
     "output_type": "execute_result"
    }
   ],
   "source": [
    "'''\n",
    "train_data = pd.concat([X_scaled_train, y_train])\n",
    "train_data.to_csv('/Users/christophergarcia/Documents/GitHub/MSADS-Capstone-CryptoCurrencyFraudDetection/Data/training_data.csv', index=False)  \n",
    "\n",
    "# Save validation data\n",
    "val_data = pd.concat([X_scaled_val, y_val])\n",
    "val_data.to_csv('/Users/christophergarcia/Documents/GitHub/MSADS-Capstone-CryptoCurrencyFraudDetection/Data/validation_data.csv', index=False)  \n",
    "\n",
    "# Save testing data\n",
    "test_data = pd.concat([X_scaled_test, y_test])\n",
    "test_data.to_csv('/Users/christophergarcia/Documents/GitHub/MSADS-Capstone-CryptoCurrencyFraudDetection/Data/testing_data.csv', index=False)  \n",
    "'''"
   ]
  },
  {
   "cell_type": "code",
   "execution_count": null,
   "metadata": {},
   "outputs": [],
   "source": []
  }
 ],
 "metadata": {
  "kernelspec": {
   "display_name": "base",
   "language": "python",
   "name": "python3"
  },
  "language_info": {
   "codemirror_mode": {
    "name": "ipython",
    "version": 3
   },
   "file_extension": ".py",
   "mimetype": "text/x-python",
   "name": "python",
   "nbconvert_exporter": "python",
   "pygments_lexer": "ipython3",
   "version": "3.9.7"
  },
  "orig_nbformat": 4
 },
 "nbformat": 4,
 "nbformat_minor": 2
}
